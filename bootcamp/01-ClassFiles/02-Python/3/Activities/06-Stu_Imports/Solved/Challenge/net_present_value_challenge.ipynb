{
  "cells": [
    {
      "cell_type": "code",
      "metadata": {},
      "source": [
        "# -*- coding: utf-8 -*-\n",
        "\"\"\"Student Activity: Financial Analysis using NPV.\n",
        "\n",
        "This script will choose the optimal project scenario to\n",
        "undertake based on max NPV values.\n",
        "\"\"\"\n",
        "\n",
        "# Import the NumPy library\n",
        "import numpy_financial as npf\n",
        "\n",
        "# Discount Rate\n",
        "discount_rate = .1\n",
        "\n",
        "# Initial Investment, Cash Flow 1, Cash Flow 2, Cash Flow 3, Cash Flow 4\n",
        "cash_flows_conservative = [-1000, 400, 400, 400, 400]\n",
        "cash_flows_neutral = [-1500, 600, 600, 600, 600]\n",
        "cash_flows_aggressive = [-2250, 800, 800, 800, 800]\n",
        "\n",
        "# Initialize dictionary to hold NPV return values\n",
        "npv_dict = {}\n",
        "\n",
        "# Calculate the NPV for each scenario\n",
        "npv_dict['conservative'] = npf.npv(discount_rate, cash_flows_conservative)\n",
        "npv_dict['neutral'] = npf.npv(discount_rate, cash_flows_neutral)\n",
        "npv_dict['aggressive'] = npf.npv(discount_rate, cash_flows_aggressive)\n",
        "\n",
        "# Initialize variables\n",
        "max_value = 0\n",
        "max_key = 0\n",
        "\n",
        "# Iterate over the dictionary and find the max key-value pair\n",
        "for key, value in npv_dict.items():\n",
        "    print(f\"{key} {value}\")\n",
        "\n",
        "    if max_value == 0:\n",
        "        max_value = value\n",
        "        max_key = key\n",
        "    elif value > max_value:\n",
        "        max_value = value\n",
        "        max_key = key\n",
        "\n",
        "# Print out the optimal project scenario with the highest NPV value\n",
        "print(\"---------------------------------------------------------\")\n",
        "print(f\"The project scenario with the max NPV value is '{max_key}' with a NPV of {max_value}\")\n"
      ],
      "outputs": [],
      "execution_count": null
    }
  ],
  "metadata": {
    "anaconda-cloud": {},
    "kernelspec": {
      "display_name": "Python 3",
      "language": "python",
      "name": "python3"
    },
    "language_info": {
      "codemirror_mode": {
        "name": "ipython",
        "version": 3
      },
      "file_extension": ".py",
      "mimetype": "text/x-python",
      "name": "python",
      "nbconvert_exporter": "python",
      "pygments_lexer": "ipython3",
      "version": "3.6.1"
    }
  },
  "nbformat": 4,
  "nbformat_minor": 1
}