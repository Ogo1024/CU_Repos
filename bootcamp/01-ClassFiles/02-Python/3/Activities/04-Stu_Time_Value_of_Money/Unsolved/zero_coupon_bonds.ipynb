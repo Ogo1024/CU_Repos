{
  "cells": [
    {
      "cell_type": "code",
      "metadata": {},
      "source": [
        "# -*- coding: utf-8 -*-\n",
        "\"\"\"\n",
        "Zero-Coupon Bond Valuation.\n",
        "\n",
        "This script will calculate the present value of zero-coupon bonds, compare the present value to the price of the bond, and determine the corresponding action (buy, not buy, neutral).\n",
        "\"\"\"\n",
        "\n",
        "# @TODO: Create a function to calculate present value\n",
        "\n",
        "\n",
        "\n",
        "\n",
        "\n",
        "\n",
        "\n",
        "\n",
        "\n",
        "\n",
        "\n",
        "\n",
        "\n",
        "\n",
        "\n",
        "\n",
        "\n",
        "# Intialize the zero-coupon bond parameters, assume compounding period is equal to 1\n",
        "price = 700\n",
        "future_value = 1000\n",
        "discount_rate = .1\n",
        "compounding_periods = 1\n",
        "years = 5\n",
        "\n",
        "# @TODO: Call the calculate_present_value() function and assign to a variables\n",
        "\n",
        "\n",
        "# @TODO: Determine if the bond is worth it\n"
      ],
      "outputs": [],
      "execution_count": null
    }
  ],
  "metadata": {
    "anaconda-cloud": {},
    "kernelspec": {
      "display_name": "Python 3",
      "language": "python",
      "name": "python3"
    },
    "language_info": {
      "codemirror_mode": {
        "name": "ipython",
        "version": 3
      },
      "file_extension": ".py",
      "mimetype": "text/x-python",
      "name": "python",
      "nbconvert_exporter": "python",
      "pygments_lexer": "ipython3",
      "version": "3.6.1"
    }
  },
  "nbformat": 4,
  "nbformat_minor": 1
}