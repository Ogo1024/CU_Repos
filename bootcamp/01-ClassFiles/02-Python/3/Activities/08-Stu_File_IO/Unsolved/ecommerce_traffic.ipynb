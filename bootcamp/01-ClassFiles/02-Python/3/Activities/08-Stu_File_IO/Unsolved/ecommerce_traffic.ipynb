{
  "cells": [
    {
      "cell_type": "code",
      "metadata": {},
      "source": [
        "# -*- coding: utf-8 -*-\n",
        "\"\"\"Student Do: E-Commerce Traffic.\n",
        "\n",
        "This script will parse through a text file and sum the total\n",
        "number of customers and the count of days in the text file to\n",
        "calculate the daily average of customer traffic for an e-commerce\n",
        "business.\n",
        "\"\"\"\n",
        "\n",
        "# @TODO: From the pathlib library, import the main class Path\n",
        "\n",
        "\n",
        "# @TODO: Check the current directory where the Python program is executing from\n",
        "\n",
        "\n",
        "# @TODO: Set the path using Pathlib\n",
        "\n",
        "\n",
        "# Initialize variables\n",
        "customer_total = 0\n",
        "day_count = 0\n",
        "\n",
        "# @TODO: Open the file in \"read\" mode ('r') and store the contents in the variable 'file'\n",
        "\n",
        "    # @TODO: Parse the file line by line\n",
        "\n",
        "\n",
        "        # @TODO: Convert the number in the text file from string to int (allows for numerical calculations)\n",
        "\n",
        "\n",
        "        # @TODO: Sum the total and count of the numbers in the text file\n",
        "\n",
        "\n",
        "\n",
        "# @TODO: Print out customer_total and day_count\n",
        "\n",
        "\n",
        "\n",
        "\n",
        "# @TODO: Calculate the average\n",
        "\n",
        "\n",
        "\n",
        "# @TODO: Set output file name\n",
        "\n",
        "\n",
        "# @TODO: Open the output path as a file object\n",
        "\n",
        "    # @TODO: Write daily_average to the output file, convert to string\n"
      ],
      "outputs": [],
      "execution_count": null
    }
  ],
  "metadata": {
    "anaconda-cloud": {},
    "kernelspec": {
      "display_name": "Python 3",
      "language": "python",
      "name": "python3"
    },
    "language_info": {
      "codemirror_mode": {
        "name": "ipython",
        "version": 3
      },
      "file_extension": ".py",
      "mimetype": "text/x-python",
      "name": "python",
      "nbconvert_exporter": "python",
      "pygments_lexer": "ipython3",
      "version": "3.6.1"
    }
  },
  "nbformat": 4,
  "nbformat_minor": 1
}